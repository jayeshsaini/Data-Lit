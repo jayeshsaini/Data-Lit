{
 "cells": [
  {
   "cell_type": "code",
   "execution_count": 1,
   "metadata": {
    "colab": {
     "base_uri": "https://localhost:8080/",
     "height": 387
    },
    "colab_type": "code",
    "id": "nMx2UqrJFyw-",
    "outputId": "2a1da4e3-31d4-401f-f6b0-9f693ad8d9a6"
   },
   "outputs": [
    {
     "name": "stdout",
     "output_type": "stream",
     "text": [
      "Requirement already satisfied: pandas in c:\\users\\jayesh\\anaconda3\\lib\\site-packages (0.20.1)\n",
      "Requirement already satisfied: python-dateutil>=2 in c:\\users\\jayesh\\anaconda3\\lib\\site-packages (from pandas) (2.6.0)\n",
      "Requirement already satisfied: pytz>=2011k in c:\\users\\jayesh\\anaconda3\\lib\\site-packages (from pandas) (2017.2)\n",
      "Requirement already satisfied: numpy>=1.7.0 in c:\\users\\jayesh\\anaconda3\\lib\\site-packages (from pandas) (1.16.2)\n",
      "Requirement already satisfied: six>=1.5 in c:\\users\\jayesh\\anaconda3\\lib\\site-packages (from python-dateutil>=2->pandas) (1.10.0)\n"
     ]
    },
    {
     "name": "stderr",
     "output_type": "stream",
     "text": [
      "You are using pip version 19.0.1, however version 19.0.3 is available.\n",
      "You should consider upgrading via the 'python -m pip install --upgrade pip' command.\n"
     ]
    },
    {
     "name": "stdout",
     "output_type": "stream",
     "text": [
      "Requirement already satisfied: tweepy in c:\\users\\jayesh\\anaconda3\\lib\\site-packages (3.7.0)\n",
      "Requirement already satisfied: six>=1.10.0 in c:\\users\\jayesh\\anaconda3\\lib\\site-packages (from tweepy) (1.10.0)\n",
      "Requirement already satisfied: requests-oauthlib>=0.7.0 in c:\\users\\jayesh\\anaconda3\\lib\\site-packages (from tweepy) (1.2.0)\n",
      "Requirement already satisfied: PySocks>=1.5.7 in c:\\users\\jayesh\\anaconda3\\lib\\site-packages (from tweepy) (1.6.8)\n",
      "Requirement already satisfied: requests>=2.11.1 in c:\\users\\jayesh\\anaconda3\\lib\\site-packages (from tweepy) (2.21.0)\n",
      "Requirement already satisfied: oauthlib>=3.0.0 in c:\\users\\jayesh\\anaconda3\\lib\\site-packages (from requests-oauthlib>=0.7.0->tweepy) (3.0.1)\n",
      "Requirement already satisfied: urllib3<1.25,>=1.21.1 in c:\\users\\jayesh\\anaconda3\\lib\\site-packages (from requests>=2.11.1->tweepy) (1.22)\n",
      "Requirement already satisfied: idna<2.9,>=2.5 in c:\\users\\jayesh\\anaconda3\\lib\\site-packages (from requests>=2.11.1->tweepy) (2.5)\n",
      "Requirement already satisfied: chardet<3.1.0,>=3.0.2 in c:\\users\\jayesh\\anaconda3\\lib\\site-packages (from requests>=2.11.1->tweepy) (3.0.3)\n",
      "Requirement already satisfied: certifi>=2017.4.17 in c:\\users\\jayesh\\anaconda3\\lib\\site-packages (from requests>=2.11.1->tweepy) (2018.11.29)\n"
     ]
    },
    {
     "name": "stderr",
     "output_type": "stream",
     "text": [
      "You are using pip version 19.0.1, however version 19.0.3 is available.\n",
      "You should consider upgrading via the 'python -m pip install --upgrade pip' command.\n"
     ]
    },
    {
     "name": "stdout",
     "output_type": "stream",
     "text": [
      "Requirement already satisfied: vaderSentiment in c:\\users\\jayesh\\anaconda3\\lib\\site-packages (3.2.1)\n"
     ]
    },
    {
     "name": "stderr",
     "output_type": "stream",
     "text": [
      "You are using pip version 19.0.1, however version 19.0.3 is available.\n",
      "You should consider upgrading via the 'python -m pip install --upgrade pip' command.\n"
     ]
    }
   ],
   "source": [
    "!pip install pandas\n",
    "!pip install tweepy\n",
    "!pip install vaderSentiment"
   ]
  },
  {
   "cell_type": "code",
   "execution_count": 2,
   "metadata": {
    "colab": {},
    "colab_type": "code",
    "id": "VldzdttbGRT6"
   },
   "outputs": [],
   "source": [
    "import pandas as pd\n",
    "import tweepy\n",
    "from vaderSentiment.vaderSentiment import SentimentIntensityAnalyzer\n",
    "analyzer = SentimentIntensityAnalyzer()"
   ]
  },
  {
   "cell_type": "code",
   "execution_count": 3,
   "metadata": {
    "colab": {},
    "colab_type": "code",
    "id": "xoeDu5guGo-N"
   },
   "outputs": [],
   "source": [
    "#My Twitter API Authentication Variables\n",
    "consumer_key = '95yto7dDmGabiDx3jInpKj9WY'\n",
    "consumer_secret = 'jFKsqG1QTdPNMH7PqIjh6OpvtA8gQ7YzxGSVCNHP7SeXdvr8hM'\n",
    "access_token = '1380365438-jyLgYMarjlNdWkOQNOUSSt7jBW9Jje7FTD2MvNe'\n",
    "access_token_secret = 'eyZ3qg7vSJdEop4s3q9aoZ0LH99qTRMes3mYTtSs7oyS8'"
   ]
  },
  {
   "cell_type": "code",
   "execution_count": 5,
   "metadata": {
    "colab": {
     "base_uri": "https://localhost:8080/",
     "height": 376
    },
    "colab_type": "code",
    "id": "i41rn4KkG-iz",
    "outputId": "0243083f-626d-4df7-e974-f51e1e9d7790"
   },
   "outputs": [],
   "source": [
    "auth = tweepy.OAuthHandler(consumer_key, consumer_secret)\n",
    "auth.set_access_token(access_token, access_token_secret)\n",
    "api= tweepy.API(auth)"
   ]
  },
  {
   "cell_type": "code",
   "execution_count": 6,
   "metadata": {},
   "outputs": [],
   "source": [
    "import re\n",
    "def clean_tweet(tweet):\n",
    "  '''utility function to clean a text in a tweet by removing linksnand special characters regex'''\n",
    "  return ''.join(re.sub(\"(@[A-Za-Z0-9]+)|([^0-9A-Za-z\\t])|(\\w+i\\/\\/\\s+)\"),'',tweet).split()\n",
    "that_word = 'Depression'\n",
    "tweets= api.search(that_word,count=100)"
   ]
  },
  {
   "cell_type": "code",
   "execution_count": 7,
   "metadata": {},
   "outputs": [
    {
     "name": "stdout",
     "output_type": "stream",
     "text": [
      "                                              Tweets\n",
      "0  Vintage 1950s Anchor Hocking Forest Green Depr...\n",
      "1  RT @R0SCO3: Self loathing will devour you\\nRes...\n",
      "2  RT @TevinVassell: Suicide - 0800567567\\nRape -...\n",
      "3  RT @TevinVassell: Suicide - 0800567567\\nRape -...\n",
      "4  RT @BetteMidler: #DonaldTrump has forced us to...\n",
      "5  RT @SerophaneTape: mob psycho: your life is yo...\n",
      "6  RT @TimetoChange: \"I always reach out if I see...\n",
      "7  RT @depressionarmy: Mornings are so difficult ...\n",
      "8  RT @CUnderwoodUK: My dad didn't die because he...\n",
      "9  RT @TevinVassell: Suicide - 0800567567\\nRape -...\n",
      "2019-03-25 12:14:24\n"
     ]
    }
   ],
   "source": [
    "data=pd.DataFrame(data=[tweet.text for tweet in tweets],columns=['Tweets'])\n",
    "print(data.head(10))\n",
    "print(tweets[0].created_at)"
   ]
  },
  {
   "cell_type": "code",
   "execution_count": 9,
   "metadata": {
    "colab": {
     "base_uri": "https://localhost:8080/",
     "height": 69
    },
    "colab_type": "code",
    "id": "6k_z5lpRIN4t",
    "outputId": "e5f77812-a407-4ed0-8198-240dd01b2bec"
   },
   "outputs": [
    {
     "name": "stderr",
     "output_type": "stream",
     "text": [
      "[nltk_data] Downloading package vader_lexicon to\n",
      "[nltk_data]     C:\\Users\\Jayesh\\AppData\\Roaming\\nltk_data...\n",
      "[nltk_data]   Package vader_lexicon is already up-to-date!\n"
     ]
    },
    {
     "data": {
      "text/html": [
       "<div>\n",
       "<style>\n",
       "    .dataframe thead tr:only-child th {\n",
       "        text-align: right;\n",
       "    }\n",
       "\n",
       "    .dataframe thead th {\n",
       "        text-align: left;\n",
       "    }\n",
       "\n",
       "    .dataframe tbody tr th {\n",
       "        vertical-align: top;\n",
       "    }\n",
       "</style>\n",
       "<table border=\"1\" class=\"dataframe\">\n",
       "  <thead>\n",
       "    <tr style=\"text-align: right;\">\n",
       "      <th></th>\n",
       "      <th>Tweets</th>\n",
       "      <th>polarity</th>\n",
       "    </tr>\n",
       "  </thead>\n",
       "  <tbody>\n",
       "    <tr>\n",
       "      <th>0</th>\n",
       "      <td>Vintage 1950s Anchor Hocking Forest Green Depr...</td>\n",
       "      <td>{'neg': 0.234, 'neu': 0.766, 'pos': 0.0, 'comp...</td>\n",
       "    </tr>\n",
       "    <tr>\n",
       "      <th>1</th>\n",
       "      <td>RT @R0SCO3: Self loathing will devour you\\nRes...</td>\n",
       "      <td>{'neg': 0.483, 'neu': 0.517, 'pos': 0.0, 'comp...</td>\n",
       "    </tr>\n",
       "    <tr>\n",
       "      <th>2</th>\n",
       "      <td>RT @TevinVassell: Suicide - 0800567567\\nRape -...</td>\n",
       "      <td>{'neg': 0.659, 'neu': 0.341, 'pos': 0.0, 'comp...</td>\n",
       "    </tr>\n",
       "    <tr>\n",
       "      <th>3</th>\n",
       "      <td>RT @TevinVassell: Suicide - 0800567567\\nRape -...</td>\n",
       "      <td>{'neg': 0.659, 'neu': 0.341, 'pos': 0.0, 'comp...</td>\n",
       "    </tr>\n",
       "    <tr>\n",
       "      <th>4</th>\n",
       "      <td>RT @BetteMidler: #DonaldTrump has forced us to...</td>\n",
       "      <td>{'neg': 0.404, 'neu': 0.596, 'pos': 0.0, 'comp...</td>\n",
       "    </tr>\n",
       "    <tr>\n",
       "      <th>5</th>\n",
       "      <td>RT @SerophaneTape: mob psycho: your life is yo...</td>\n",
       "      <td>{'neg': 0.341, 'neu': 0.659, 'pos': 0.0, 'comp...</td>\n",
       "    </tr>\n",
       "    <tr>\n",
       "      <th>6</th>\n",
       "      <td>RT @TimetoChange: \"I always reach out if I see...</td>\n",
       "      <td>{'neg': 0.0, 'neu': 0.88, 'pos': 0.12, 'compou...</td>\n",
       "    </tr>\n",
       "    <tr>\n",
       "      <th>7</th>\n",
       "      <td>RT @depressionarmy: Mornings are so difficult ...</td>\n",
       "      <td>{'neg': 0.465, 'neu': 0.535, 'pos': 0.0, 'comp...</td>\n",
       "    </tr>\n",
       "    <tr>\n",
       "      <th>8</th>\n",
       "      <td>RT @CUnderwoodUK: My dad didn't die because he...</td>\n",
       "      <td>{'neg': 0.098, 'neu': 0.713, 'pos': 0.188, 'co...</td>\n",
       "    </tr>\n",
       "    <tr>\n",
       "      <th>9</th>\n",
       "      <td>RT @TevinVassell: Suicide - 0800567567\\nRape -...</td>\n",
       "      <td>{'neg': 0.659, 'neu': 0.341, 'pos': 0.0, 'comp...</td>\n",
       "    </tr>\n",
       "  </tbody>\n",
       "</table>\n",
       "</div>"
      ],
      "text/plain": [
       "                                              Tweets  \\\n",
       "0  Vintage 1950s Anchor Hocking Forest Green Depr...   \n",
       "1  RT @R0SCO3: Self loathing will devour you\\nRes...   \n",
       "2  RT @TevinVassell: Suicide - 0800567567\\nRape -...   \n",
       "3  RT @TevinVassell: Suicide - 0800567567\\nRape -...   \n",
       "4  RT @BetteMidler: #DonaldTrump has forced us to...   \n",
       "5  RT @SerophaneTape: mob psycho: your life is yo...   \n",
       "6  RT @TimetoChange: \"I always reach out if I see...   \n",
       "7  RT @depressionarmy: Mornings are so difficult ...   \n",
       "8  RT @CUnderwoodUK: My dad didn't die because he...   \n",
       "9  RT @TevinVassell: Suicide - 0800567567\\nRape -...   \n",
       "\n",
       "                                            polarity  \n",
       "0  {'neg': 0.234, 'neu': 0.766, 'pos': 0.0, 'comp...  \n",
       "1  {'neg': 0.483, 'neu': 0.517, 'pos': 0.0, 'comp...  \n",
       "2  {'neg': 0.659, 'neu': 0.341, 'pos': 0.0, 'comp...  \n",
       "3  {'neg': 0.659, 'neu': 0.341, 'pos': 0.0, 'comp...  \n",
       "4  {'neg': 0.404, 'neu': 0.596, 'pos': 0.0, 'comp...  \n",
       "5  {'neg': 0.341, 'neu': 0.659, 'pos': 0.0, 'comp...  \n",
       "6  {'neg': 0.0, 'neu': 0.88, 'pos': 0.12, 'compou...  \n",
       "7  {'neg': 0.465, 'neu': 0.535, 'pos': 0.0, 'comp...  \n",
       "8  {'neg': 0.098, 'neu': 0.713, 'pos': 0.188, 'co...  \n",
       "9  {'neg': 0.659, 'neu': 0.341, 'pos': 0.0, 'comp...  "
      ]
     },
     "execution_count": 9,
     "metadata": {},
     "output_type": "execute_result"
    }
   ],
   "source": [
    "import nltk\n",
    "nltk.download('vader_lexicon')\n",
    "sid = SentimentIntensityAnalyzer()\n",
    "\n",
    "\n",
    "listy = []\n",
    "\n",
    "for index, row in data.iterrows():\n",
    "  ss = sid.polarity_scores(row[\"Tweets\"])\n",
    "  listy.append(ss)\n",
    "  \n",
    "se = pd.Series(listy)\n",
    "data['polarity'] = se.values\n",
    "\n",
    "data.head(10)"
   ]
  },
  {
   "cell_type": "code",
   "execution_count": 10,
   "metadata": {
    "colab": {
     "base_uri": "https://localhost:8080/",
     "height": 1969
    },
    "colab_type": "code",
    "id": "kQiYGQEqIZ3w",
    "outputId": "35c11ad4-4e98-4d25-c32a-0b627a3e5d90"
   },
   "outputs": [],
   "source": [
    "import matplotlib.pyplot as plt"
   ]
  },
  {
   "cell_type": "code",
   "execution_count": 11,
   "metadata": {},
   "outputs": [],
   "source": [
    "# gloabl variable to store values\n",
    "neg, neu, pos = 0, 0, 0"
   ]
  },
  {
   "cell_type": "code",
   "execution_count": 12,
   "metadata": {},
   "outputs": [],
   "source": [
    "# taking values out of each tweet to add to our global variable\n",
    "for tweet in data['polarity']:\n",
    "  neg += tweet['neg']\n",
    "  neu += tweet['neu']\n",
    "  pos += tweet['pos']"
   ]
  },
  {
   "cell_type": "code",
   "execution_count": 13,
   "metadata": {},
   "outputs": [],
   "source": [
    "labels = 'negative', 'neutral', 'positive'\n",
    "sizes = [neg, neu, pos]\n",
    "explode = (0.1, 0, 0)\n",
    "colors = ['#EA8A8D', '#E9E9E9', '#3EDC81']"
   ]
  },
  {
   "cell_type": "code",
   "execution_count": 14,
   "metadata": {},
   "outputs": [
    {
     "data": {
      "image/png": "[encoded data removed]",
      "text/plain": [
       "<matplotlib.figure.Figure at 0x2c5349e7780>"
      ]
     },
     "metadata": {},
     "output_type": "display_data"
    },
    {
     "data": {
      "text/plain": [
       "<matplotlib.figure.Figure at 0x2c5349aa048>"
      ]
     },
     "metadata": {},
     "output_type": "display_data"
    }
   ],
   "source": [
    "ig1, ax1 = plt.subplots()\n",
    "ax1.pie(sizes, labels=labels, autopct='%1.1f%%',\n",
    "        shadow=False, startangle=45, colors=colors)\n",
    "ax1.axis('equal')  # Equal aspect ratio ensures that pie is drawn as a circle.\n",
    "\n",
    "plt.title(f\"Sentiment Analysis for the tweets having the phrase 'Depression' in them\")\n",
    "fig1 = plt.gcf()\n",
    "\n",
    "plt.show()\n",
    "plt.draw()"
   ]
  }
 ],
 "metadata": {
  "colab": {
   "name": "Untitled29.ipynb",
   "provenance": [],
   "version": "0.3.2"
  },
  "kernelspec": {
   "display_name": "Python 3",
   "language": "python",
   "name": "python3"
  },
  "language_info": {
   "codemirror_mode": {
    "name": "ipython",
    "version": 3
   },
   "file_extension": ".py",
   "mimetype": "text/x-python",
   "name": "python",
   "nbconvert_exporter": "python",
   "pygments_lexer": "ipython3",
   "version": "3.6.7"
  }
 },
 "nbformat": 4,
 "nbformat_minor": 1
}
