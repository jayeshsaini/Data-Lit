{
  "nbformat": 4,
  "nbformat_minor": 0,
  "metadata": {
    "colab": {
      "name": "Prediting_House_Prices.ipynb",
      "version": "0.3.2",
      "provenance": [],
      "collapsed_sections": [],
      "include_colab_link": true
    },
    "kernelspec": {
      "display_name": "Python 3",
      "language": "python",
      "name": "python3"
    },
    "accelerator": "GPU"
  },
  "cells": [
    {
      "cell_type": "markdown",
      "metadata": {
        "id": "view-in-github",
        "colab_type": "text"
      },
      "source": [
        "<a href=\"https://colab.research.google.com/github/jayeshsaini/Data-Lit/blob/master/Prediting_House_Prices.ipynb\" target=\"_parent\"><img src=\"https://colab.research.google.com/assets/colab-badge.svg\" alt=\"Open In Colab\"/></a>"
      ]
    },
    {
      "metadata": {
        "colab_type": "code",
        "id": "15g661tSoY1h",
        "colab": {}
      },
      "cell_type": "code",
      "source": [
        "import numpy as np\n",
        "import requests\n",
        "import pandas as pd\n",
        "from IPython.display import clear_output "
      ],
      "execution_count": 0,
      "outputs": []
    },
    {
      "metadata": {
        "colab_type": "code",
        "id": "sm_BxfqmqUDx",
        "outputId": "410e9564-9948-4360-e52a-2cfe78c90d19",
        "colab": {
          "base_uri": "https://localhost:8080/",
          "height": 34
        }
      },
      "cell_type": "code",
      "source": [
        "!wget https://www.theschool.ai/wp-content/uploads/2019/02/train.csv\n",
        "!wget https://www.theschool.ai/wp-content/uploads/2019/02/test.csv\n",
        "df_train = pd.read_csv(\"train.csv\")\n",
        "df_test = pd.read_csv(\"test.csv\")\n",
        "clear_output()\n",
        "print(\"Data Downloaded\")"
      ],
      "execution_count": 3,
      "outputs": [
        {
          "output_type": "stream",
          "text": [
            "Data Downloaded\n"
          ],
          "name": "stdout"
        }
      ]
    },
    {
      "metadata": {
        "colab_type": "code",
        "id": "lSxYR7xlqfD_",
        "outputId": "4b1f270f-bd38-4543-e795-04051b3f7b73",
        "colab": {
          "base_uri": "https://localhost:8080/",
          "height": 244
        }
      },
      "cell_type": "code",
      "source": [
        "df_train.head()"
      ],
      "execution_count": 4,
      "outputs": [
        {
          "output_type": "execute_result",
          "data": {
            "text/html": [
              "<div>\n",
              "<style scoped>\n",
              "    .dataframe tbody tr th:only-of-type {\n",
              "        vertical-align: middle;\n",
              "    }\n",
              "\n",
              "    .dataframe tbody tr th {\n",
              "        vertical-align: top;\n",
              "    }\n",
              "\n",
              "    .dataframe thead th {\n",
              "        text-align: right;\n",
              "    }\n",
              "</style>\n",
              "<table border=\"1\" class=\"dataframe\">\n",
              "  <thead>\n",
              "    <tr style=\"text-align: right;\">\n",
              "      <th></th>\n",
              "      <th>Id</th>\n",
              "      <th>MSSubClass</th>\n",
              "      <th>MSZoning</th>\n",
              "      <th>LotFrontage</th>\n",
              "      <th>LotArea</th>\n",
              "      <th>Street</th>\n",
              "      <th>Alley</th>\n",
              "      <th>LotShape</th>\n",
              "      <th>LandContour</th>\n",
              "      <th>Utilities</th>\n",
              "      <th>...</th>\n",
              "      <th>PoolArea</th>\n",
              "      <th>PoolQC</th>\n",
              "      <th>Fence</th>\n",
              "      <th>MiscFeature</th>\n",
              "      <th>MiscVal</th>\n",
              "      <th>MoSold</th>\n",
              "      <th>YrSold</th>\n",
              "      <th>SaleType</th>\n",
              "      <th>SaleCondition</th>\n",
              "      <th>SalePrice</th>\n",
              "    </tr>\n",
              "  </thead>\n",
              "  <tbody>\n",
              "    <tr>\n",
              "      <th>0</th>\n",
              "      <td>1</td>\n",
              "      <td>60</td>\n",
              "      <td>RL</td>\n",
              "      <td>65.0</td>\n",
              "      <td>8450</td>\n",
              "      <td>Pave</td>\n",
              "      <td>NaN</td>\n",
              "      <td>Reg</td>\n",
              "      <td>Lvl</td>\n",
              "      <td>AllPub</td>\n",
              "      <td>...</td>\n",
              "      <td>0</td>\n",
              "      <td>NaN</td>\n",
              "      <td>NaN</td>\n",
              "      <td>NaN</td>\n",
              "      <td>0</td>\n",
              "      <td>2</td>\n",
              "      <td>2008</td>\n",
              "      <td>WD</td>\n",
              "      <td>Normal</td>\n",
              "      <td>208500</td>\n",
              "    </tr>\n",
              "    <tr>\n",
              "      <th>1</th>\n",
              "      <td>2</td>\n",
              "      <td>20</td>\n",
              "      <td>RL</td>\n",
              "      <td>80.0</td>\n",
              "      <td>9600</td>\n",
              "      <td>Pave</td>\n",
              "      <td>NaN</td>\n",
              "      <td>Reg</td>\n",
              "      <td>Lvl</td>\n",
              "      <td>AllPub</td>\n",
              "      <td>...</td>\n",
              "      <td>0</td>\n",
              "      <td>NaN</td>\n",
              "      <td>NaN</td>\n",
              "      <td>NaN</td>\n",
              "      <td>0</td>\n",
              "      <td>5</td>\n",
              "      <td>2007</td>\n",
              "      <td>WD</td>\n",
              "      <td>Normal</td>\n",
              "      <td>181500</td>\n",
              "    </tr>\n",
              "    <tr>\n",
              "      <th>2</th>\n",
              "      <td>3</td>\n",
              "      <td>60</td>\n",
              "      <td>RL</td>\n",
              "      <td>68.0</td>\n",
              "      <td>11250</td>\n",
              "      <td>Pave</td>\n",
              "      <td>NaN</td>\n",
              "      <td>IR1</td>\n",
              "      <td>Lvl</td>\n",
              "      <td>AllPub</td>\n",
              "      <td>...</td>\n",
              "      <td>0</td>\n",
              "      <td>NaN</td>\n",
              "      <td>NaN</td>\n",
              "      <td>NaN</td>\n",
              "      <td>0</td>\n",
              "      <td>9</td>\n",
              "      <td>2008</td>\n",
              "      <td>WD</td>\n",
              "      <td>Normal</td>\n",
              "      <td>223500</td>\n",
              "    </tr>\n",
              "    <tr>\n",
              "      <th>3</th>\n",
              "      <td>4</td>\n",
              "      <td>70</td>\n",
              "      <td>RL</td>\n",
              "      <td>60.0</td>\n",
              "      <td>9550</td>\n",
              "      <td>Pave</td>\n",
              "      <td>NaN</td>\n",
              "      <td>IR1</td>\n",
              "      <td>Lvl</td>\n",
              "      <td>AllPub</td>\n",
              "      <td>...</td>\n",
              "      <td>0</td>\n",
              "      <td>NaN</td>\n",
              "      <td>NaN</td>\n",
              "      <td>NaN</td>\n",
              "      <td>0</td>\n",
              "      <td>2</td>\n",
              "      <td>2006</td>\n",
              "      <td>WD</td>\n",
              "      <td>Abnorml</td>\n",
              "      <td>140000</td>\n",
              "    </tr>\n",
              "    <tr>\n",
              "      <th>4</th>\n",
              "      <td>5</td>\n",
              "      <td>60</td>\n",
              "      <td>RL</td>\n",
              "      <td>84.0</td>\n",
              "      <td>14260</td>\n",
              "      <td>Pave</td>\n",
              "      <td>NaN</td>\n",
              "      <td>IR1</td>\n",
              "      <td>Lvl</td>\n",
              "      <td>AllPub</td>\n",
              "      <td>...</td>\n",
              "      <td>0</td>\n",
              "      <td>NaN</td>\n",
              "      <td>NaN</td>\n",
              "      <td>NaN</td>\n",
              "      <td>0</td>\n",
              "      <td>12</td>\n",
              "      <td>2008</td>\n",
              "      <td>WD</td>\n",
              "      <td>Normal</td>\n",
              "      <td>250000</td>\n",
              "    </tr>\n",
              "  </tbody>\n",
              "</table>\n",
              "<p>5 rows × 81 columns</p>\n",
              "</div>"
            ],
            "text/plain": [
              "   Id  MSSubClass MSZoning  LotFrontage  LotArea Street Alley LotShape  \\\n",
              "0   1          60       RL         65.0     8450   Pave   NaN      Reg   \n",
              "1   2          20       RL         80.0     9600   Pave   NaN      Reg   \n",
              "2   3          60       RL         68.0    11250   Pave   NaN      IR1   \n",
              "3   4          70       RL         60.0     9550   Pave   NaN      IR1   \n",
              "4   5          60       RL         84.0    14260   Pave   NaN      IR1   \n",
              "\n",
              "  LandContour Utilities    ...     PoolArea PoolQC Fence MiscFeature MiscVal  \\\n",
              "0         Lvl    AllPub    ...            0    NaN   NaN         NaN       0   \n",
              "1         Lvl    AllPub    ...            0    NaN   NaN         NaN       0   \n",
              "2         Lvl    AllPub    ...            0    NaN   NaN         NaN       0   \n",
              "3         Lvl    AllPub    ...            0    NaN   NaN         NaN       0   \n",
              "4         Lvl    AllPub    ...            0    NaN   NaN         NaN       0   \n",
              "\n",
              "  MoSold YrSold  SaleType  SaleCondition  SalePrice  \n",
              "0      2   2008        WD         Normal     208500  \n",
              "1      5   2007        WD         Normal     181500  \n",
              "2      9   2008        WD         Normal     223500  \n",
              "3      2   2006        WD        Abnorml     140000  \n",
              "4     12   2008        WD         Normal     250000  \n",
              "\n",
              "[5 rows x 81 columns]"
            ]
          },
          "metadata": {
            "tags": []
          },
          "execution_count": 4
        }
      ]
    },
    {
      "metadata": {
        "colab_type": "code",
        "id": "SPWXKGWhrc00",
        "outputId": "caa81459-4ed1-4161-e057-89b4f7e961c7",
        "colab": {
          "base_uri": "https://localhost:8080/",
          "height": 34
        }
      },
      "cell_type": "code",
      "source": [
        "df_train = df_train.drop(\"Id\",axis=1)\n",
        "df_train.shape"
      ],
      "execution_count": 5,
      "outputs": [
        {
          "output_type": "execute_result",
          "data": {
            "text/plain": [
              "(1460, 80)"
            ]
          },
          "metadata": {
            "tags": []
          },
          "execution_count": 5
        }
      ]
    },
    {
      "metadata": {
        "colab_type": "code",
        "id": "exa0EoRAsQ7P",
        "outputId": "d4157a85-d77e-4455-f7f4-7b1f31f4dd6f",
        "colab": {
          "base_uri": "https://localhost:8080/",
          "height": 343
        }
      },
      "cell_type": "code",
      "source": [
        "#Check how many NaN values have each feature\n",
        "counting_nan = pd.DataFrame({\"Counting nan\": df_train.isna().sum().sort_values(ascending=False)})\n",
        "counting_nan.head(10)"
      ],
      "execution_count": 6,
      "outputs": [
        {
          "output_type": "execute_result",
          "data": {
            "text/html": [
              "<div>\n",
              "<style scoped>\n",
              "    .dataframe tbody tr th:only-of-type {\n",
              "        vertical-align: middle;\n",
              "    }\n",
              "\n",
              "    .dataframe tbody tr th {\n",
              "        vertical-align: top;\n",
              "    }\n",
              "\n",
              "    .dataframe thead th {\n",
              "        text-align: right;\n",
              "    }\n",
              "</style>\n",
              "<table border=\"1\" class=\"dataframe\">\n",
              "  <thead>\n",
              "    <tr style=\"text-align: right;\">\n",
              "      <th></th>\n",
              "      <th>Counting nan</th>\n",
              "    </tr>\n",
              "  </thead>\n",
              "  <tbody>\n",
              "    <tr>\n",
              "      <th>PoolQC</th>\n",
              "      <td>1453</td>\n",
              "    </tr>\n",
              "    <tr>\n",
              "      <th>MiscFeature</th>\n",
              "      <td>1406</td>\n",
              "    </tr>\n",
              "    <tr>\n",
              "      <th>Alley</th>\n",
              "      <td>1369</td>\n",
              "    </tr>\n",
              "    <tr>\n",
              "      <th>Fence</th>\n",
              "      <td>1179</td>\n",
              "    </tr>\n",
              "    <tr>\n",
              "      <th>FireplaceQu</th>\n",
              "      <td>690</td>\n",
              "    </tr>\n",
              "    <tr>\n",
              "      <th>LotFrontage</th>\n",
              "      <td>259</td>\n",
              "    </tr>\n",
              "    <tr>\n",
              "      <th>GarageType</th>\n",
              "      <td>81</td>\n",
              "    </tr>\n",
              "    <tr>\n",
              "      <th>GarageCond</th>\n",
              "      <td>81</td>\n",
              "    </tr>\n",
              "    <tr>\n",
              "      <th>GarageFinish</th>\n",
              "      <td>81</td>\n",
              "    </tr>\n",
              "    <tr>\n",
              "      <th>GarageQual</th>\n",
              "      <td>81</td>\n",
              "    </tr>\n",
              "  </tbody>\n",
              "</table>\n",
              "</div>"
            ],
            "text/plain": [
              "              Counting nan\n",
              "PoolQC                1453\n",
              "MiscFeature           1406\n",
              "Alley                 1369\n",
              "Fence                 1179\n",
              "FireplaceQu            690\n",
              "LotFrontage            259\n",
              "GarageType              81\n",
              "GarageCond              81\n",
              "GarageFinish            81\n",
              "GarageQual              81"
            ]
          },
          "metadata": {
            "tags": []
          },
          "execution_count": 6
        }
      ]
    },
    {
      "metadata": {
        "colab_type": "code",
        "id": "vUrHbwztGWF_",
        "colab": {}
      },
      "cell_type": "code",
      "source": [
        "def preprocess(df):\n",
        "  df.drop('PoolQC', axis=1, inplace=True)\n",
        "  df.drop('MiscFeature', axis=1, inplace=True)\n",
        "  df.drop('Alley', axis=1, inplace=True)\n",
        "  df.drop('Fence', axis=1, inplace=True)\n",
        "  df.drop('FireplaceQu', axis=1, inplace=True)\n",
        "  df.drop('LotFrontage', axis=1, inplace=True)\n",
        "  \n",
        "  numeric_variables = list(df.select_dtypes(include=['int64','float']).columns.values)\n",
        "  df[numeric_variables]=df[numeric_variables].apply(lambda x: x.fillna(x.median()),axis=0)\n",
        "  \n",
        "  categorical_variables = list(df.select_dtypes(exclude=['int64','float','bool']).columns.values)\n",
        "  df[categorical_variables]=df[categorical_variables].apply(lambda x: x.fillna(\"None\"),axis=0)\n",
        "  \n",
        "  df=pd.get_dummies(df)#one hot encoding\n",
        "  return df"
      ],
      "execution_count": 0,
      "outputs": []
    },
    {
      "metadata": {
        "colab_type": "code",
        "id": "QSF-nD6_2wM0",
        "outputId": "3e67e37c-1b25-4adf-a51c-941cd118915b",
        "colab": {
          "base_uri": "https://localhost:8080/",
          "height": 34
        }
      },
      "cell_type": "code",
      "source": [
        "df_train =  preprocess(df_train)\n",
        "df_test = preprocess(df_test)\n",
        "df_train.shape"
      ],
      "execution_count": 8,
      "outputs": [
        {
          "output_type": "execute_result",
          "data": {
            "text/plain": [
              "(1460, 280)"
            ]
          },
          "metadata": {
            "tags": []
          },
          "execution_count": 8
        }
      ]
    },
    {
      "metadata": {
        "colab_type": "text",
        "id": "Z8qiWAYj6Sy6"
      },
      "cell_type": "markdown",
      "source": [
        "# Training the models"
      ]
    },
    {
      "metadata": {
        "colab_type": "code",
        "id": "hzgyWiut6Asc",
        "colab": {}
      },
      "cell_type": "code",
      "source": [
        "from sklearn.model_selection import train_test_split \n",
        "from sklearn.ensemble import RandomForestRegressor \n",
        "from sklearn.metrics import r2_score, make_scorer, mean_squared_error, mean_absolute_error\n",
        "from time import time"
      ],
      "execution_count": 0,
      "outputs": []
    },
    {
      "metadata": {
        "colab_type": "code",
        "id": "7QJVHAzf6rV3",
        "colab": {}
      },
      "cell_type": "code",
      "source": [
        "X_train, X_test, y_train, y_test = train_test_split(df_train.drop(\"SalePrice\",axis=1), np.log(df_train[\"SalePrice\"]), random_state=42)"
      ],
      "execution_count": 0,
      "outputs": []
    },
    {
      "metadata": {
        "colab_type": "code",
        "id": "25RS7sT_7kWH",
        "outputId": "74ebdfe2-bc30-4894-d0bf-4f9cda489def",
        "colab": {
          "base_uri": "https://localhost:8080/",
          "height": 34
        }
      },
      "cell_type": "code",
      "source": [
        "(X_train.shape, X_test.shape)"
      ],
      "execution_count": 11,
      "outputs": [
        {
          "output_type": "execute_result",
          "data": {
            "text/plain": [
              "((1095, 279), (365, 279))"
            ]
          },
          "metadata": {
            "tags": []
          },
          "execution_count": 11
        }
      ]
    },
    {
      "metadata": {
        "colab_type": "text",
        "id": "U7I8gFZUO1KV"
      },
      "cell_type": "markdown",
      "source": [
        "## LASSO,RIDGE, AND DECISSION TREE REGRESSION "
      ]
    },
    {
      "metadata": {
        "colab_type": "code",
        "id": "NlCQxNWsAGET",
        "colab": {}
      },
      "cell_type": "code",
      "source": [
        "from sklearn.model_selection import GridSearchCV # Search over specified parameter values for an estimator.\n",
        "from sklearn.model_selection import RandomizedSearchCV # Search over specified parameter values for an estimator.\n",
        "from sklearn.model_selection import ShuffleSplit # Random permutation cross-validator\n",
        "from sklearn.linear_model import Ridge\n",
        "from sklearn.tree import DecisionTreeRegressor"
      ],
      "execution_count": 0,
      "outputs": []
    },
    {
      "metadata": {
        "colab_type": "text",
        "id": "44un42M2ir1i"
      },
      "cell_type": "markdown",
      "source": [
        "**Lasso with RandomizedSearchCV**"
      ]
    },
    {
      "metadata": {
        "colab_type": "code",
        "id": "EPavHwqL-EWK",
        "colab": {}
      },
      "cell_type": "code",
      "source": [
        "from sklearn.linear_model import Lasso\n",
        "lasso_reg = Lasso(random_state=42)"
      ],
      "execution_count": 0,
      "outputs": []
    },
    {
      "metadata": {
        "colab_type": "code",
        "id": "yvnDuKr__Rql",
        "outputId": "354b9f7d-5942-416e-bcad-b729d26b26be",
        "colab": {
          "base_uri": "https://localhost:8080/",
          "height": 34
        }
      },
      "cell_type": "code",
      "source": [
        "cv_sets_lasso = ShuffleSplit(random_state = 30)\n",
        "\n",
        "parameters_lasso = {\n",
        "    'alpha':np.linspace(0.0005,0.005,100),\n",
        "    \"max_iter\":np.linspace(40000,200000,num=100,dtype=int),\n",
        "}\n",
        "scorer_lasso = make_scorer(r2_score)\n",
        "\n",
        "grid_obj_lasso = RandomizedSearchCV(lasso_reg,\n",
        "                                   parameters_lasso,\n",
        "                                   scoring=scorer_lasso,\n",
        "                                   cv=cv_sets_lasso,\n",
        "                                   random_state=99)\n",
        "\n",
        "grid_fit_lasso = grid_obj_lasso.fit(X_train, y_train)\n",
        "\n",
        "lasso_opt = grid_fit_lasso.best_estimator_\n",
        "grid_fit_lasso.best_params_"
      ],
      "execution_count": 14,
      "outputs": [
        {
          "output_type": "execute_result",
          "data": {
            "text/plain": [
              "{'alpha': 0.0012727272727272728, 'max_iter': 149898}"
            ]
          },
          "metadata": {
            "tags": []
          },
          "execution_count": 14
        }
      ]
    },
    {
      "metadata": {
        "colab_type": "code",
        "id": "L2j0XWQLNNM4",
        "colab": {}
      },
      "cell_type": "code",
      "source": [
        "lasso_opt.fit(X_train, y_train)\n",
        "lasso_opt_predict = lasso_opt.predict(X_test)"
      ],
      "execution_count": 0,
      "outputs": []
    },
    {
      "metadata": {
        "colab_type": "code",
        "id": "MFL0fgThNNlo",
        "outputId": "f568c84b-5338-4d20-bb3e-3926517d3f04",
        "colab": {
          "base_uri": "https://localhost:8080/",
          "height": 67
        }
      },
      "cell_type": "code",
      "source": [
        "lasso_r2 = r2_score(y_test, lasso_opt_predict)\n",
        "lasso_mse = mean_squared_error(y_test, lasso_opt_predict)\n",
        "lasso_mae = mean_absolute_error(y_test, lasso_opt_predict)\n",
        "print(\"R2 : {} \\nMSE: {}\\nMAE: {}\".format(lasso_r2,lasso_mse,lasso_mae))"
      ],
      "execution_count": 16,
      "outputs": [
        {
          "output_type": "stream",
          "text": [
            "R2 : 0.8986717636540241 \n",
            "MSE: 0.017545937450267533\n",
            "MAE: 0.0930376155302393\n"
          ],
          "name": "stdout"
        }
      ]
    },
    {
      "metadata": {
        "colab_type": "text",
        "id": "zDTDCSiBRYiy"
      },
      "cell_type": "markdown",
      "source": [
        "**Lasso with GridSearchCV**"
      ]
    },
    {
      "metadata": {
        "colab_type": "code",
        "id": "0Ynk91vDCvhZ",
        "colab": {}
      },
      "cell_type": "code",
      "source": [
        "lasso_reg2 = Lasso(random_state=42)\n",
        "alphas = np.logspace(-4,-0.5,30)\n",
        "tuned_parameters = [{'alpha': alphas}]\n",
        "n_folds = 5"
      ],
      "execution_count": 0,
      "outputs": []
    },
    {
      "metadata": {
        "colab_type": "code",
        "id": "OHMnUrk_P9Ka",
        "colab": {}
      },
      "cell_type": "code",
      "source": [
        "clf = GridSearchCV(estimator=lasso_reg2,\n",
        "                   param_grid = tuned_parameters, \n",
        "                   cv=n_folds, \n",
        "                   refit=True)\n",
        "\n",
        "clf.fit(X_train, y_train)\n",
        "\n",
        "lasso_opt2 = clf.best_estimator_ \n",
        "lasso_opt2_predict =  lasso_opt2.predict(X_test)"
      ],
      "execution_count": 0,
      "outputs": []
    },
    {
      "metadata": {
        "colab_type": "code",
        "id": "jQvyx2LNWq5R",
        "outputId": "29366968-0b30-42e0-996c-0329c690d0d1",
        "colab": {
          "base_uri": "https://localhost:8080/",
          "height": 67
        }
      },
      "cell_type": "code",
      "source": [
        "lasso2_r2 = r2_score(y_test, lasso_opt2_predict)\n",
        "lasso2_mse = mean_squared_error(y_test, lasso_opt2_predict)\n",
        "lasso2_mae = mean_absolute_error(y_test, lasso_opt2_predict)\n",
        "print(\"R2 : {} \\nMSE: {}\\nMAE: {}\".format(lasso2_r2,lasso2_mse,lasso2_mae))"
      ],
      "execution_count": 19,
      "outputs": [
        {
          "output_type": "stream",
          "text": [
            "R2 : 0.918203051038265 \n",
            "MSE: 0.014163911283375706\n",
            "MAE: 0.08306859272846598\n"
          ],
          "name": "stdout"
        }
      ]
    },
    {
      "metadata": {
        "colab_type": "text",
        "id": "IDMAoHArjr4w"
      },
      "cell_type": "markdown",
      "source": [
        "**Ridge Regression**"
      ]
    },
    {
      "metadata": {
        "colab_type": "code",
        "id": "JdFNLjIso7I6",
        "colab": {}
      },
      "cell_type": "code",
      "source": [
        "ridgeReg = Ridge(alpha=0.05, normalize=True)\n",
        "ridge_params = [{'alpha': np.linspace(0.005,0.5,100),\n",
        "           'random_state':np.linspace(0,10,10,dtype=int) \n",
        "          }]"
      ],
      "execution_count": 0,
      "outputs": []
    },
    {
      "metadata": {
        "colab_type": "code",
        "id": "eXbvlqZlr6I6",
        "colab": {}
      },
      "cell_type": "code",
      "source": [
        "clf_ridge = GridSearchCV(estimator=ridgeReg,\n",
        "                   param_grid = ridge_params, \n",
        "                   cv=5, \n",
        "                   refit=True)\n",
        "\n",
        "clf_ridge.fit(X_train, y_train)\n",
        "\n",
        "ridgeReg_opt = clf_ridge.best_estimator_ \n",
        "ridgeReg_opt_predict = ridgeReg_opt.predict(X_test)"
      ],
      "execution_count": 0,
      "outputs": []
    },
    {
      "metadata": {
        "colab_type": "code",
        "id": "X-k17STNpQLj",
        "outputId": "5105728f-da94-4055-fa38-58f1225ff8e6",
        "colab": {
          "base_uri": "https://localhost:8080/",
          "height": 34
        }
      },
      "cell_type": "code",
      "source": [
        "clf_ridge.best_params_"
      ],
      "execution_count": 23,
      "outputs": [
        {
          "output_type": "execute_result",
          "data": {
            "text/plain": [
              "{'alpha': 0.5, 'random_state': 0}"
            ]
          },
          "metadata": {
            "tags": []
          },
          "execution_count": 23
        }
      ]
    },
    {
      "metadata": {
        "colab_type": "code",
        "id": "dswavjBYpQiG",
        "outputId": "6a30f262-652c-4b5e-85de-e1475f8639b9",
        "colab": {
          "base_uri": "https://localhost:8080/",
          "height": 67
        }
      },
      "cell_type": "code",
      "source": [
        "ridgeReg_r2 = r2_score(y_test, ridgeReg_opt_predict)\n",
        "ridgeReg_mse = mean_squared_error(y_test, ridgeReg_opt_predict)\n",
        "ridgeReg_mae = mean_absolute_error(y_test, ridgeReg_opt_predict)\n",
        "print(\"R2 : {} \\nMSE: {}\\nMAE: {}\".format(ridgeReg_r2,ridgeReg_mse,ridgeReg_mae))"
      ],
      "execution_count": 24,
      "outputs": [
        {
          "output_type": "stream",
          "text": [
            "R2 : 0.90709074723873 \n",
            "MSE: 0.01608811123420961\n",
            "MAE: 0.08865049397751779\n"
          ],
          "name": "stdout"
        }
      ]
    },
    {
      "metadata": {
        "colab_type": "text",
        "id": "0PnoG5hAjnmN"
      },
      "cell_type": "markdown",
      "source": [
        "**Decission Tree Regressor**"
      ]
    },
    {
      "metadata": {
        "colab_type": "code",
        "id": "3ieQoUNFeSM6",
        "colab": {}
      },
      "cell_type": "code",
      "source": [
        "dtree = DecisionTreeRegressor(max_depth=8,random_state=51)\n",
        "params = [{'max_depth': np.linspace(1,10,10,dtype=int),\n",
        "           'random_state':np.linspace(0,100,10,dtype=int) \n",
        "          }]"
      ],
      "execution_count": 0,
      "outputs": []
    },
    {
      "metadata": {
        "colab_type": "code",
        "id": "OoXobszXmnNa",
        "colab": {}
      },
      "cell_type": "code",
      "source": [
        "clf_tree = GridSearchCV(estimator=dtree,\n",
        "                   param_grid = params, \n",
        "                   cv=5, \n",
        "                   refit=True)\n",
        "\n",
        "clf_tree.fit(X_train, y_train)\n",
        "\n",
        "dtree_opt = clf_tree.best_estimator_ \n",
        "dtree_opt_predict = dtree_opt.predict(X_test)"
      ],
      "execution_count": 0,
      "outputs": []
    },
    {
      "metadata": {
        "colab_type": "code",
        "id": "Ogy5mXGBk22R",
        "outputId": "17e6ec66-059f-4dd7-c753-d4c26558f668",
        "colab": {
          "base_uri": "https://localhost:8080/",
          "height": 67
        }
      },
      "cell_type": "code",
      "source": [
        "dtree_r2 = r2_score(y_test, dtree_opt_predict)\n",
        "dtree_mse = mean_squared_error(y_test, dtree_opt_predict)\n",
        "dtree_mae = mean_absolute_error(y_test, dtree_opt_predict)\n",
        "print(\"R2 : {} \\nMSE: {}\\nMAE {}\".format(dtree_r2,dtree_mse,dtree_mae))"
      ],
      "execution_count": 27,
      "outputs": [
        {
          "output_type": "stream",
          "text": [
            "R2 : 0.789166414314997 \n",
            "MSE: 0.0365078189480557\n",
            "MAE 0.1399271976760597\n"
          ],
          "name": "stdout"
        }
      ]
    }
  ]
}